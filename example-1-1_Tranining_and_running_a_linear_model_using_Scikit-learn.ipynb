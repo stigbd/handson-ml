{
 "cells": [
  {
   "cell_type": "markdown",
   "metadata": {},
   "source": [
    "# Setting up"
   ]
  },
  {
   "cell_type": "code",
   "execution_count": 1,
   "metadata": {},
   "outputs": [],
   "source": [
    "import matplotlib\n",
    "import matplotlib.pyplot as plt\n",
    "import numpy as np\n",
    "import pandas as pd\n",
    "import sklearn.linear_model"
   ]
  },
  {
   "cell_type": "markdown",
   "metadata": {},
   "source": [
    "# Load data and explore"
   ]
  },
  {
   "cell_type": "code",
   "execution_count": 2,
   "metadata": {},
   "outputs": [],
   "source": [
    "oecd_bli = pd.read_csv(\"./datasets/oecd_bli_2015.csv\", thousands=',')"
   ]
  },
  {
   "cell_type": "code",
   "execution_count": 3,
   "metadata": {},
   "outputs": [
    {
     "data": {
      "text/html": [
       "<div>\n",
       "<style scoped>\n",
       "    .dataframe tbody tr th:only-of-type {\n",
       "        vertical-align: middle;\n",
       "    }\n",
       "\n",
       "    .dataframe tbody tr th {\n",
       "        vertical-align: top;\n",
       "    }\n",
       "\n",
       "    .dataframe thead th {\n",
       "        text-align: right;\n",
       "    }\n",
       "</style>\n",
       "<table border=\"1\" class=\"dataframe\">\n",
       "  <thead>\n",
       "    <tr style=\"text-align: right;\">\n",
       "      <th></th>\n",
       "      <th>LOCATION</th>\n",
       "      <th>Country</th>\n",
       "      <th>INDICATOR</th>\n",
       "      <th>Indicator</th>\n",
       "      <th>MEASURE</th>\n",
       "      <th>Measure</th>\n",
       "      <th>INEQUALITY</th>\n",
       "      <th>Inequality</th>\n",
       "      <th>Unit Code</th>\n",
       "      <th>Unit</th>\n",
       "      <th>PowerCode Code</th>\n",
       "      <th>PowerCode</th>\n",
       "      <th>Reference Period Code</th>\n",
       "      <th>Reference Period</th>\n",
       "      <th>Value</th>\n",
       "      <th>Flag Codes</th>\n",
       "      <th>Flags</th>\n",
       "    </tr>\n",
       "  </thead>\n",
       "  <tbody>\n",
       "    <tr>\n",
       "      <th>0</th>\n",
       "      <td>AUS</td>\n",
       "      <td>Australia</td>\n",
       "      <td>HO_BASE</td>\n",
       "      <td>Dwellings without basic facilities</td>\n",
       "      <td>L</td>\n",
       "      <td>Value</td>\n",
       "      <td>TOT</td>\n",
       "      <td>Total</td>\n",
       "      <td>PC</td>\n",
       "      <td>Percentage</td>\n",
       "      <td>0</td>\n",
       "      <td>units</td>\n",
       "      <td>NaN</td>\n",
       "      <td>NaN</td>\n",
       "      <td>1.1</td>\n",
       "      <td>E</td>\n",
       "      <td>Estimated value</td>\n",
       "    </tr>\n",
       "    <tr>\n",
       "      <th>1</th>\n",
       "      <td>AUT</td>\n",
       "      <td>Austria</td>\n",
       "      <td>HO_BASE</td>\n",
       "      <td>Dwellings without basic facilities</td>\n",
       "      <td>L</td>\n",
       "      <td>Value</td>\n",
       "      <td>TOT</td>\n",
       "      <td>Total</td>\n",
       "      <td>PC</td>\n",
       "      <td>Percentage</td>\n",
       "      <td>0</td>\n",
       "      <td>units</td>\n",
       "      <td>NaN</td>\n",
       "      <td>NaN</td>\n",
       "      <td>1.0</td>\n",
       "      <td>NaN</td>\n",
       "      <td>NaN</td>\n",
       "    </tr>\n",
       "    <tr>\n",
       "      <th>2</th>\n",
       "      <td>BEL</td>\n",
       "      <td>Belgium</td>\n",
       "      <td>HO_BASE</td>\n",
       "      <td>Dwellings without basic facilities</td>\n",
       "      <td>L</td>\n",
       "      <td>Value</td>\n",
       "      <td>TOT</td>\n",
       "      <td>Total</td>\n",
       "      <td>PC</td>\n",
       "      <td>Percentage</td>\n",
       "      <td>0</td>\n",
       "      <td>units</td>\n",
       "      <td>NaN</td>\n",
       "      <td>NaN</td>\n",
       "      <td>2.0</td>\n",
       "      <td>NaN</td>\n",
       "      <td>NaN</td>\n",
       "    </tr>\n",
       "    <tr>\n",
       "      <th>3</th>\n",
       "      <td>CAN</td>\n",
       "      <td>Canada</td>\n",
       "      <td>HO_BASE</td>\n",
       "      <td>Dwellings without basic facilities</td>\n",
       "      <td>L</td>\n",
       "      <td>Value</td>\n",
       "      <td>TOT</td>\n",
       "      <td>Total</td>\n",
       "      <td>PC</td>\n",
       "      <td>Percentage</td>\n",
       "      <td>0</td>\n",
       "      <td>units</td>\n",
       "      <td>NaN</td>\n",
       "      <td>NaN</td>\n",
       "      <td>0.2</td>\n",
       "      <td>NaN</td>\n",
       "      <td>NaN</td>\n",
       "    </tr>\n",
       "    <tr>\n",
       "      <th>4</th>\n",
       "      <td>CZE</td>\n",
       "      <td>Czech Republic</td>\n",
       "      <td>HO_BASE</td>\n",
       "      <td>Dwellings without basic facilities</td>\n",
       "      <td>L</td>\n",
       "      <td>Value</td>\n",
       "      <td>TOT</td>\n",
       "      <td>Total</td>\n",
       "      <td>PC</td>\n",
       "      <td>Percentage</td>\n",
       "      <td>0</td>\n",
       "      <td>units</td>\n",
       "      <td>NaN</td>\n",
       "      <td>NaN</td>\n",
       "      <td>0.9</td>\n",
       "      <td>NaN</td>\n",
       "      <td>NaN</td>\n",
       "    </tr>\n",
       "  </tbody>\n",
       "</table>\n",
       "</div>"
      ],
      "text/plain": [
       "  LOCATION         Country INDICATOR                           Indicator  \\\n",
       "0      AUS       Australia   HO_BASE  Dwellings without basic facilities   \n",
       "1      AUT         Austria   HO_BASE  Dwellings without basic facilities   \n",
       "2      BEL         Belgium   HO_BASE  Dwellings without basic facilities   \n",
       "3      CAN          Canada   HO_BASE  Dwellings without basic facilities   \n",
       "4      CZE  Czech Republic   HO_BASE  Dwellings without basic facilities   \n",
       "\n",
       "  MEASURE Measure INEQUALITY Inequality Unit Code        Unit  PowerCode Code  \\\n",
       "0       L   Value        TOT      Total        PC  Percentage               0   \n",
       "1       L   Value        TOT      Total        PC  Percentage               0   \n",
       "2       L   Value        TOT      Total        PC  Percentage               0   \n",
       "3       L   Value        TOT      Total        PC  Percentage               0   \n",
       "4       L   Value        TOT      Total        PC  Percentage               0   \n",
       "\n",
       "  PowerCode  Reference Period Code  Reference Period  Value Flag Codes  \\\n",
       "0     units                    NaN               NaN    1.1          E   \n",
       "1     units                    NaN               NaN    1.0        NaN   \n",
       "2     units                    NaN               NaN    2.0        NaN   \n",
       "3     units                    NaN               NaN    0.2        NaN   \n",
       "4     units                    NaN               NaN    0.9        NaN   \n",
       "\n",
       "             Flags  \n",
       "0  Estimated value  \n",
       "1              NaN  \n",
       "2              NaN  \n",
       "3              NaN  \n",
       "4              NaN  "
      ]
     },
     "execution_count": 3,
     "metadata": {},
     "output_type": "execute_result"
    }
   ],
   "source": [
    "oecd_bli.head()"
   ]
  },
  {
   "cell_type": "code",
   "execution_count": 4,
   "metadata": {},
   "outputs": [],
   "source": [
    "gdp_per_capita = pd.read_csv(\"./datasets/gdp_per_capita.csv\", thousands=',', delimiter='\\t', encoding='latin1', na_values=\"n\\a\")"
   ]
  },
  {
   "cell_type": "code",
   "execution_count": 5,
   "metadata": {},
   "outputs": [
    {
     "data": {
      "text/html": [
       "<div>\n",
       "<style scoped>\n",
       "    .dataframe tbody tr th:only-of-type {\n",
       "        vertical-align: middle;\n",
       "    }\n",
       "\n",
       "    .dataframe tbody tr th {\n",
       "        vertical-align: top;\n",
       "    }\n",
       "\n",
       "    .dataframe thead th {\n",
       "        text-align: right;\n",
       "    }\n",
       "</style>\n",
       "<table border=\"1\" class=\"dataframe\">\n",
       "  <thead>\n",
       "    <tr style=\"text-align: right;\">\n",
       "      <th></th>\n",
       "      <th>Country</th>\n",
       "      <th>Subject Descriptor</th>\n",
       "      <th>Units</th>\n",
       "      <th>Scale</th>\n",
       "      <th>Country/Series-specific Notes</th>\n",
       "      <th>2015</th>\n",
       "      <th>Estimates Start After</th>\n",
       "    </tr>\n",
       "  </thead>\n",
       "  <tbody>\n",
       "    <tr>\n",
       "      <th>0</th>\n",
       "      <td>Afghanistan</td>\n",
       "      <td>Gross domestic product per capita, current prices</td>\n",
       "      <td>U.S. dollars</td>\n",
       "      <td>Units</td>\n",
       "      <td>See notes for:  Gross domestic product, curren...</td>\n",
       "      <td>599.994</td>\n",
       "      <td>2013.0</td>\n",
       "    </tr>\n",
       "    <tr>\n",
       "      <th>1</th>\n",
       "      <td>Albania</td>\n",
       "      <td>Gross domestic product per capita, current prices</td>\n",
       "      <td>U.S. dollars</td>\n",
       "      <td>Units</td>\n",
       "      <td>See notes for:  Gross domestic product, curren...</td>\n",
       "      <td>3995.383</td>\n",
       "      <td>2010.0</td>\n",
       "    </tr>\n",
       "    <tr>\n",
       "      <th>2</th>\n",
       "      <td>Algeria</td>\n",
       "      <td>Gross domestic product per capita, current prices</td>\n",
       "      <td>U.S. dollars</td>\n",
       "      <td>Units</td>\n",
       "      <td>See notes for:  Gross domestic product, curren...</td>\n",
       "      <td>4318.135</td>\n",
       "      <td>2014.0</td>\n",
       "    </tr>\n",
       "    <tr>\n",
       "      <th>3</th>\n",
       "      <td>Angola</td>\n",
       "      <td>Gross domestic product per capita, current prices</td>\n",
       "      <td>U.S. dollars</td>\n",
       "      <td>Units</td>\n",
       "      <td>See notes for:  Gross domestic product, curren...</td>\n",
       "      <td>4100.315</td>\n",
       "      <td>2014.0</td>\n",
       "    </tr>\n",
       "    <tr>\n",
       "      <th>4</th>\n",
       "      <td>Antigua and Barbuda</td>\n",
       "      <td>Gross domestic product per capita, current prices</td>\n",
       "      <td>U.S. dollars</td>\n",
       "      <td>Units</td>\n",
       "      <td>See notes for:  Gross domestic product, curren...</td>\n",
       "      <td>14414.302</td>\n",
       "      <td>2011.0</td>\n",
       "    </tr>\n",
       "  </tbody>\n",
       "</table>\n",
       "</div>"
      ],
      "text/plain": [
       "               Country                                 Subject Descriptor  \\\n",
       "0          Afghanistan  Gross domestic product per capita, current prices   \n",
       "1              Albania  Gross domestic product per capita, current prices   \n",
       "2              Algeria  Gross domestic product per capita, current prices   \n",
       "3               Angola  Gross domestic product per capita, current prices   \n",
       "4  Antigua and Barbuda  Gross domestic product per capita, current prices   \n",
       "\n",
       "          Units  Scale                      Country/Series-specific Notes  \\\n",
       "0  U.S. dollars  Units  See notes for:  Gross domestic product, curren...   \n",
       "1  U.S. dollars  Units  See notes for:  Gross domestic product, curren...   \n",
       "2  U.S. dollars  Units  See notes for:  Gross domestic product, curren...   \n",
       "3  U.S. dollars  Units  See notes for:  Gross domestic product, curren...   \n",
       "4  U.S. dollars  Units  See notes for:  Gross domestic product, curren...   \n",
       "\n",
       "        2015  Estimates Start After  \n",
       "0    599.994                 2013.0  \n",
       "1   3995.383                 2010.0  \n",
       "2   4318.135                 2014.0  \n",
       "3   4100.315                 2014.0  \n",
       "4  14414.302                 2011.0  "
      ]
     },
     "execution_count": 5,
     "metadata": {},
     "output_type": "execute_result"
    }
   ],
   "source": [
    "gdp_per_capita.head()"
   ]
  },
  {
   "cell_type": "markdown",
   "metadata": {},
   "source": [
    "# Prepare the data"
   ]
  },
  {
   "cell_type": "markdown",
   "metadata": {},
   "source": [
    "## Define a function that merges the datasets"
   ]
  },
  {
   "cell_type": "code",
   "execution_count": 6,
   "metadata": {},
   "outputs": [],
   "source": [
    "def prepare_country_stats(oecd_bli, gdp_per_capita):\n",
    "    oecd_bli = oecd_bli[oecd_bli[\"INEQUALITY\"]==\"TOT\"]\n",
    "    oecd_bli = oecd_bli.pivot(index=\"Country\", columns=\"Indicator\", values=\"Value\")\n",
    "    gdp_per_capita.rename(columns={\"2015\": \"GDP per capita\"}, inplace=True)\n",
    "    gdp_per_capita.set_index(\"Country\", inplace=True)\n",
    "    full_country_stats = pd.merge(left=oecd_bli, right=gdp_per_capita,\n",
    "                                 left_index=True, right_index=True)\n",
    "    full_country_stats.sort_values(by=\"GDP per capita\", inplace=True)\n",
    "    remove_indices = [0, 1, 6, 8, 33, 34, 35]\n",
    "    keep_indices = list(set(range(36)) - set(remove_indices))\n",
    "    return full_country_stats[[\"GDP per capita\", 'Life satisfaction']].iloc[keep_indices]"
   ]
  },
  {
   "cell_type": "markdown",
   "metadata": {},
   "source": [
    "## Merge the datasets, explore and prepare"
   ]
  },
  {
   "cell_type": "code",
   "execution_count": 7,
   "metadata": {},
   "outputs": [],
   "source": [
    "country_stats = prepare_country_stats(oecd_bli, gdp_per_capita)"
   ]
  },
  {
   "cell_type": "code",
   "execution_count": 8,
   "metadata": {},
   "outputs": [
    {
     "data": {
      "text/html": [
       "<div>\n",
       "<style scoped>\n",
       "    .dataframe tbody tr th:only-of-type {\n",
       "        vertical-align: middle;\n",
       "    }\n",
       "\n",
       "    .dataframe tbody tr th {\n",
       "        vertical-align: top;\n",
       "    }\n",
       "\n",
       "    .dataframe thead th {\n",
       "        text-align: right;\n",
       "    }\n",
       "</style>\n",
       "<table border=\"1\" class=\"dataframe\">\n",
       "  <thead>\n",
       "    <tr style=\"text-align: right;\">\n",
       "      <th></th>\n",
       "      <th>GDP per capita</th>\n",
       "      <th>Life satisfaction</th>\n",
       "    </tr>\n",
       "    <tr>\n",
       "      <th>Country</th>\n",
       "      <th></th>\n",
       "      <th></th>\n",
       "    </tr>\n",
       "  </thead>\n",
       "  <tbody>\n",
       "    <tr>\n",
       "      <th>Russia</th>\n",
       "      <td>9054.914</td>\n",
       "      <td>6.0</td>\n",
       "    </tr>\n",
       "    <tr>\n",
       "      <th>Turkey</th>\n",
       "      <td>9437.372</td>\n",
       "      <td>5.6</td>\n",
       "    </tr>\n",
       "    <tr>\n",
       "      <th>Hungary</th>\n",
       "      <td>12239.894</td>\n",
       "      <td>4.9</td>\n",
       "    </tr>\n",
       "    <tr>\n",
       "      <th>Poland</th>\n",
       "      <td>12495.334</td>\n",
       "      <td>5.8</td>\n",
       "    </tr>\n",
       "    <tr>\n",
       "      <th>Slovak Republic</th>\n",
       "      <td>15991.736</td>\n",
       "      <td>6.1</td>\n",
       "    </tr>\n",
       "  </tbody>\n",
       "</table>\n",
       "</div>"
      ],
      "text/plain": [
       "                 GDP per capita  Life satisfaction\n",
       "Country                                           \n",
       "Russia                 9054.914                6.0\n",
       "Turkey                 9437.372                5.6\n",
       "Hungary               12239.894                4.9\n",
       "Poland                12495.334                5.8\n",
       "Slovak Republic       15991.736                6.1"
      ]
     },
     "execution_count": 8,
     "metadata": {},
     "output_type": "execute_result"
    }
   ],
   "source": [
    "country_stats.head()"
   ]
  },
  {
   "cell_type": "code",
   "execution_count": 9,
   "metadata": {},
   "outputs": [],
   "source": [
    "X = np.c_[country_stats[\"GDP per capita\"]]\n",
    "y = np.c_[country_stats[\"Life satisfaction\"]]"
   ]
  },
  {
   "cell_type": "markdown",
   "metadata": {},
   "source": [
    "# Visualize the data"
   ]
  },
  {
   "cell_type": "code",
   "execution_count": 10,
   "metadata": {},
   "outputs": [
    {
     "data": {
      "image/png": "[encoded data removed]",
      "text/plain": [
       "<Figure size 432x288 with 1 Axes>"
      ]
     },
     "metadata": {
      "needs_background": "light"
     },
     "output_type": "display_data"
    }
   ],
   "source": [
    "country_stats.plot(kind='scatter', x=\"GDP per capita\", y='Life satisfaction')\n",
    "plt.axis([0, 60000, 0, 10])\n",
    "X=np.linspace(0, 60000, 1000)\n",
    "plt.show()"
   ]
  },
  {
   "cell_type": "markdown",
   "metadata": {},
   "source": [
    "# Select a linear model"
   ]
  },
  {
   "cell_type": "code",
   "execution_count": 13,
   "metadata": {},
   "outputs": [],
   "source": [
    "model = sklearn.linear_model.LinearRegression()"
   ]
  },
  {
   "cell_type": "markdown",
   "metadata": {},
   "source": [
    "# Train the model"
   ]
  },
  {
   "cell_type": "code",
   "execution_count": 14,
   "metadata": {},
   "outputs": [
    {
     "ename": "ValueError",
     "evalue": "Expected 2D array, got 1D array instead:\narray=[    0.            60.06006006   120.12012012   180.18018018\n   240.24024024   300.3003003    360.36036036   420.42042042\n   480.48048048   540.54054054   600.6006006    660.66066066\n   720.72072072   780.78078078   840.84084084   900.9009009\n   960.96096096  1021.02102102  1081.08108108  1141.14114114\n  1201.2012012   1261.26126126  1321.32132132  1381.38138138\n  1441.44144144  1501.5015015   1561.56156156  1621.62162162\n  1681.68168168  1741.74174174  1801.8018018   1861.86186186\n  1921.92192192  1981.98198198  2042.04204204  2102.1021021\n  2162.16216216  2222.22222222  2282.28228228  2342.34234234\n  2402.4024024   2462.46246246  2522.52252252  2582.58258258\n  2642.64264264  2702.7027027   2762.76276276  2822.82282282\n  2882.88288288  2942.94294294  3003.003003    3063.06306306\n  3123.12312312  3183.18318318  3243.24324324  3303.3033033\n  3363.36336336  3423.42342342  3483.48348348  3543.54354354\n  3603.6036036   3663.66366366  3723.72372372  3783.78378378\n  3843.84384384  3903.9039039   3963.96396396  4024.02402402\n  4084.08408408  4144.14414414  4204.2042042   4264.26426426\n  4324.32432432  4384.38438438  4444.44444444  4504.5045045\n  4564.56456456  4624.62462462  4684.68468468  4744.74474474\n  4804.8048048   4864.86486486  4924.92492492  4984.98498498\n  5045.04504505  5105.10510511  5165.16516517  5225.22522523\n  5285.28528529  5345.34534535  5405.40540541  5465.46546547\n  5525.52552553  5585.58558559  5645.64564565  5705.70570571\n  5765.76576577  5825.82582583  5885.88588589  5945.94594595\n  6006.00600601  6066.06606607  6126.12612613  6186.18618619\n  6246.24624625  6306.30630631  6366.36636637  6426.42642643\n  6486.48648649  6546.54654655  6606.60660661  6666.66666667\n  6726.72672673  6786.78678679  6846.84684685  6906.90690691\n  6966.96696697  7027.02702703  7087.08708709  7147.14714715\n  7207.20720721  7267.26726727  7327.32732733  7387.38738739\n  7447.44744745  7507.50750751  7567.56756757  7627.62762763\n  7687.68768769  7747.74774775  7807.80780781  7867.86786787\n  7927.92792793  7987.98798799  8048.04804805  8108.10810811\n  8168.16816817  8228.22822823  8288.28828829  8348.34834835\n  8408.40840841  8468.46846847  8528.52852853  8588.58858859\n  8648.64864865  8708.70870871  8768.76876877  8828.82882883\n  8888.88888889  8948.94894895  9009.00900901  9069.06906907\n  9129.12912913  9189.18918919  9249.24924925  9309.30930931\n  9369.36936937  9429.42942943  9489.48948949  9549.54954955\n  9609.60960961  9669.66966967  9729.72972973  9789.78978979\n  9849.84984985  9909.90990991  9969.96996997 10030.03003003\n 10090.09009009 10150.15015015 10210.21021021 10270.27027027\n 10330.33033033 10390.39039039 10450.45045045 10510.51051051\n 10570.57057057 10630.63063063 10690.69069069 10750.75075075\n 10810.81081081 10870.87087087 10930.93093093 10990.99099099\n 11051.05105105 11111.11111111 11171.17117117 11231.23123123\n 11291.29129129 11351.35135135 11411.41141141 11471.47147147\n 11531.53153153 11591.59159159 11651.65165165 11711.71171171\n 11771.77177177 11831.83183183 11891.89189189 11951.95195195\n 12012.01201201 12072.07207207 12132.13213213 12192.19219219\n 12252.25225225 12312.31231231 12372.37237237 12432.43243243\n 12492.49249249 12552.55255255 12612.61261261 12672.67267267\n 12732.73273273 12792.79279279 12852.85285285 12912.91291291\n 12972.97297297 13033.03303303 13093.09309309 13153.15315315\n 13213.21321321 13273.27327327 13333.33333333 13393.39339339\n 13453.45345345 13513.51351351 13573.57357357 13633.63363363\n 13693.69369369 13753.75375375 13813.81381381 13873.87387387\n 13933.93393393 13993.99399399 14054.05405405 14114.11411411\n 14174.17417417 14234.23423423 14294.29429429 14354.35435435\n 14414.41441441 14474.47447447 14534.53453453 14594.59459459\n 14654.65465465 14714.71471471 14774.77477477 14834.83483483\n 14894.89489489 14954.95495495 15015.01501502 15075.07507508\n 15135.13513514 15195.1951952  15255.25525526 15315.31531532\n 15375.37537538 15435.43543544 15495.4954955  15555.55555556\n 15615.61561562 15675.67567568 15735.73573574 15795.7957958\n 15855.85585586 15915.91591592 15975.97597598 16036.03603604\n 16096.0960961  16156.15615616 16216.21621622 16276.27627628\n 16336.33633634 16396.3963964  16456.45645646 16516.51651652\n 16576.57657658 16636.63663664 16696.6966967  16756.75675676\n 16816.81681682 16876.87687688 16936.93693694 16996.996997\n 17057.05705706 17117.11711712 17177.17717718 17237.23723724\n 17297.2972973  17357.35735736 17417.41741742 17477.47747748\n 17537.53753754 17597.5975976  17657.65765766 17717.71771772\n 17777.77777778 17837.83783784 17897.8978979  17957.95795796\n 18018.01801802 18078.07807808 18138.13813814 18198.1981982\n 18258.25825826 18318.31831832 18378.37837838 18438.43843844\n 18498.4984985  18558.55855856 18618.61861862 18678.67867868\n 18738.73873874 18798.7987988  18858.85885886 18918.91891892\n 18978.97897898 19039.03903904 19099.0990991  19159.15915916\n 19219.21921922 19279.27927928 19339.33933934 19399.3993994\n 19459.45945946 19519.51951952 19579.57957958 19639.63963964\n 19699.6996997  19759.75975976 19819.81981982 19879.87987988\n 19939.93993994 20000.         20060.06006006 20120.12012012\n 20180.18018018 20240.24024024 20300.3003003  20360.36036036\n 20420.42042042 20480.48048048 20540.54054054 20600.6006006\n 20660.66066066 20720.72072072 20780.78078078 20840.84084084\n 20900.9009009  20960.96096096 21021.02102102 21081.08108108\n 21141.14114114 21201.2012012  21261.26126126 21321.32132132\n 21381.38138138 21441.44144144 21501.5015015  21561.56156156\n 21621.62162162 21681.68168168 21741.74174174 21801.8018018\n 21861.86186186 21921.92192192 21981.98198198 22042.04204204\n 22102.1021021  22162.16216216 22222.22222222 22282.28228228\n 22342.34234234 22402.4024024  22462.46246246 22522.52252252\n 22582.58258258 22642.64264264 22702.7027027  22762.76276276\n 22822.82282282 22882.88288288 22942.94294294 23003.003003\n 23063.06306306 23123.12312312 23183.18318318 23243.24324324\n 23303.3033033  23363.36336336 23423.42342342 23483.48348348\n 23543.54354354 23603.6036036  23663.66366366 23723.72372372\n 23783.78378378 23843.84384384 23903.9039039  23963.96396396\n 24024.02402402 24084.08408408 24144.14414414 24204.2042042\n 24264.26426426 24324.32432432 24384.38438438 24444.44444444\n 24504.5045045  24564.56456456 24624.62462462 24684.68468468\n 24744.74474474 24804.8048048  24864.86486486 24924.92492492\n 24984.98498498 25045.04504505 25105.10510511 25165.16516517\n 25225.22522523 25285.28528529 25345.34534535 25405.40540541\n 25465.46546547 25525.52552553 25585.58558559 25645.64564565\n 25705.70570571 25765.76576577 25825.82582583 25885.88588589\n 25945.94594595 26006.00600601 26066.06606607 26126.12612613\n 26186.18618619 26246.24624625 26306.30630631 26366.36636637\n 26426.42642643 26486.48648649 26546.54654655 26606.60660661\n 26666.66666667 26726.72672673 26786.78678679 26846.84684685\n 26906.90690691 26966.96696697 27027.02702703 27087.08708709\n 27147.14714715 27207.20720721 27267.26726727 27327.32732733\n 27387.38738739 27447.44744745 27507.50750751 27567.56756757\n 27627.62762763 27687.68768769 27747.74774775 27807.80780781\n 27867.86786787 27927.92792793 27987.98798799 28048.04804805\n 28108.10810811 28168.16816817 28228.22822823 28288.28828829\n 28348.34834835 28408.40840841 28468.46846847 28528.52852853\n 28588.58858859 28648.64864865 28708.70870871 28768.76876877\n 28828.82882883 28888.88888889 28948.94894895 29009.00900901\n 29069.06906907 29129.12912913 29189.18918919 29249.24924925\n 29309.30930931 29369.36936937 29429.42942943 29489.48948949\n 29549.54954955 29609.60960961 29669.66966967 29729.72972973\n 29789.78978979 29849.84984985 29909.90990991 29969.96996997\n 30030.03003003 30090.09009009 30150.15015015 30210.21021021\n 30270.27027027 30330.33033033 30390.39039039 30450.45045045\n 30510.51051051 30570.57057057 30630.63063063 30690.69069069\n 30750.75075075 30810.81081081 30870.87087087 30930.93093093\n 30990.99099099 31051.05105105 31111.11111111 31171.17117117\n 31231.23123123 31291.29129129 31351.35135135 31411.41141141\n 31471.47147147 31531.53153153 31591.59159159 31651.65165165\n 31711.71171171 31771.77177177 31831.83183183 31891.89189189\n 31951.95195195 32012.01201201 32072.07207207 32132.13213213\n 32192.19219219 32252.25225225 32312.31231231 32372.37237237\n 32432.43243243 32492.49249249 32552.55255255 32612.61261261\n 32672.67267267 32732.73273273 32792.79279279 32852.85285285\n 32912.91291291 32972.97297297 33033.03303303 33093.09309309\n 33153.15315315 33213.21321321 33273.27327327 33333.33333333\n 33393.39339339 33453.45345345 33513.51351351 33573.57357357\n 33633.63363363 33693.69369369 33753.75375375 33813.81381381\n 33873.87387387 33933.93393393 33993.99399399 34054.05405405\n 34114.11411411 34174.17417417 34234.23423423 34294.29429429\n 34354.35435435 34414.41441441 34474.47447447 34534.53453453\n 34594.59459459 34654.65465465 34714.71471471 34774.77477477\n 34834.83483483 34894.89489489 34954.95495495 35015.01501502\n 35075.07507508 35135.13513514 35195.1951952  35255.25525526\n 35315.31531532 35375.37537538 35435.43543544 35495.4954955\n 35555.55555556 35615.61561562 35675.67567568 35735.73573574\n 35795.7957958  35855.85585586 35915.91591592 35975.97597598\n 36036.03603604 36096.0960961  36156.15615616 36216.21621622\n 36276.27627628 36336.33633634 36396.3963964  36456.45645646\n 36516.51651652 36576.57657658 36636.63663664 36696.6966967\n 36756.75675676 36816.81681682 36876.87687688 36936.93693694\n 36996.996997   37057.05705706 37117.11711712 37177.17717718\n 37237.23723724 37297.2972973  37357.35735736 37417.41741742\n 37477.47747748 37537.53753754 37597.5975976  37657.65765766\n 37717.71771772 37777.77777778 37837.83783784 37897.8978979\n 37957.95795796 38018.01801802 38078.07807808 38138.13813814\n 38198.1981982  38258.25825826 38318.31831832 38378.37837838\n 38438.43843844 38498.4984985  38558.55855856 38618.61861862\n 38678.67867868 38738.73873874 38798.7987988  38858.85885886\n 38918.91891892 38978.97897898 39039.03903904 39099.0990991\n 39159.15915916 39219.21921922 39279.27927928 39339.33933934\n 39399.3993994  39459.45945946 39519.51951952 39579.57957958\n 39639.63963964 39699.6996997  39759.75975976 39819.81981982\n 39879.87987988 39939.93993994 40000.         40060.06006006\n 40120.12012012 40180.18018018 40240.24024024 40300.3003003\n 40360.36036036 40420.42042042 40480.48048048 40540.54054054\n 40600.6006006  40660.66066066 40720.72072072 40780.78078078\n 40840.84084084 40900.9009009  40960.96096096 41021.02102102\n 41081.08108108 41141.14114114 41201.2012012  41261.26126126\n 41321.32132132 41381.38138138 41441.44144144 41501.5015015\n 41561.56156156 41621.62162162 41681.68168168 41741.74174174\n 41801.8018018  41861.86186186 41921.92192192 41981.98198198\n 42042.04204204 42102.1021021  42162.16216216 42222.22222222\n 42282.28228228 42342.34234234 42402.4024024  42462.46246246\n 42522.52252252 42582.58258258 42642.64264264 42702.7027027\n 42762.76276276 42822.82282282 42882.88288288 42942.94294294\n 43003.003003   43063.06306306 43123.12312312 43183.18318318\n 43243.24324324 43303.3033033  43363.36336336 43423.42342342\n 43483.48348348 43543.54354354 43603.6036036  43663.66366366\n 43723.72372372 43783.78378378 43843.84384384 43903.9039039\n 43963.96396396 44024.02402402 44084.08408408 44144.14414414\n 44204.2042042  44264.26426426 44324.32432432 44384.38438438\n 44444.44444444 44504.5045045  44564.56456456 44624.62462462\n 44684.68468468 44744.74474474 44804.8048048  44864.86486486\n 44924.92492492 44984.98498498 45045.04504505 45105.10510511\n 45165.16516517 45225.22522523 45285.28528529 45345.34534535\n 45405.40540541 45465.46546547 45525.52552553 45585.58558559\n 45645.64564565 45705.70570571 45765.76576577 45825.82582583\n 45885.88588589 45945.94594595 46006.00600601 46066.06606607\n 46126.12612613 46186.18618619 46246.24624625 46306.30630631\n 46366.36636637 46426.42642643 46486.48648649 46546.54654655\n 46606.60660661 46666.66666667 46726.72672673 46786.78678679\n 46846.84684685 46906.90690691 46966.96696697 47027.02702703\n 47087.08708709 47147.14714715 47207.20720721 47267.26726727\n 47327.32732733 47387.38738739 47447.44744745 47507.50750751\n 47567.56756757 47627.62762763 47687.68768769 47747.74774775\n 47807.80780781 47867.86786787 47927.92792793 47987.98798799\n 48048.04804805 48108.10810811 48168.16816817 48228.22822823\n 48288.28828829 48348.34834835 48408.40840841 48468.46846847\n 48528.52852853 48588.58858859 48648.64864865 48708.70870871\n 48768.76876877 48828.82882883 48888.88888889 48948.94894895\n 49009.00900901 49069.06906907 49129.12912913 49189.18918919\n 49249.24924925 49309.30930931 49369.36936937 49429.42942943\n 49489.48948949 49549.54954955 49609.60960961 49669.66966967\n 49729.72972973 49789.78978979 49849.84984985 49909.90990991\n 49969.96996997 50030.03003003 50090.09009009 50150.15015015\n 50210.21021021 50270.27027027 50330.33033033 50390.39039039\n 50450.45045045 50510.51051051 50570.57057057 50630.63063063\n 50690.69069069 50750.75075075 50810.81081081 50870.87087087\n 50930.93093093 50990.99099099 51051.05105105 51111.11111111\n 51171.17117117 51231.23123123 51291.29129129 51351.35135135\n 51411.41141141 51471.47147147 51531.53153153 51591.59159159\n 51651.65165165 51711.71171171 51771.77177177 51831.83183183\n 51891.89189189 51951.95195195 52012.01201201 52072.07207207\n 52132.13213213 52192.19219219 52252.25225225 52312.31231231\n 52372.37237237 52432.43243243 52492.49249249 52552.55255255\n 52612.61261261 52672.67267267 52732.73273273 52792.79279279\n 52852.85285285 52912.91291291 52972.97297297 53033.03303303\n 53093.09309309 53153.15315315 53213.21321321 53273.27327327\n 53333.33333333 53393.39339339 53453.45345345 53513.51351351\n 53573.57357357 53633.63363363 53693.69369369 53753.75375375\n 53813.81381381 53873.87387387 53933.93393393 53993.99399399\n 54054.05405405 54114.11411411 54174.17417417 54234.23423423\n 54294.29429429 54354.35435435 54414.41441441 54474.47447447\n 54534.53453453 54594.59459459 54654.65465465 54714.71471471\n 54774.77477477 54834.83483483 54894.89489489 54954.95495495\n 55015.01501502 55075.07507508 55135.13513514 55195.1951952\n 55255.25525526 55315.31531532 55375.37537538 55435.43543544\n 55495.4954955  55555.55555556 55615.61561562 55675.67567568\n 55735.73573574 55795.7957958  55855.85585586 55915.91591592\n 55975.97597598 56036.03603604 56096.0960961  56156.15615616\n 56216.21621622 56276.27627628 56336.33633634 56396.3963964\n 56456.45645646 56516.51651652 56576.57657658 56636.63663664\n 56696.6966967  56756.75675676 56816.81681682 56876.87687688\n 56936.93693694 56996.996997   57057.05705706 57117.11711712\n 57177.17717718 57237.23723724 57297.2972973  57357.35735736\n 57417.41741742 57477.47747748 57537.53753754 57597.5975976\n 57657.65765766 57717.71771772 57777.77777778 57837.83783784\n 57897.8978979  57957.95795796 58018.01801802 58078.07807808\n 58138.13813814 58198.1981982  58258.25825826 58318.31831832\n 58378.37837838 58438.43843844 58498.4984985  58558.55855856\n 58618.61861862 58678.67867868 58738.73873874 58798.7987988\n 58858.85885886 58918.91891892 58978.97897898 59039.03903904\n 59099.0990991  59159.15915916 59219.21921922 59279.27927928\n 59339.33933934 59399.3993994  59459.45945946 59519.51951952\n 59579.57957958 59639.63963964 59699.6996997  59759.75975976\n 59819.81981982 59879.87987988 59939.93993994 60000.        ].\nReshape your data either using array.reshape(-1, 1) if your data has a single feature or array.reshape(1, -1) if it contains a single sample.",
     "output_type": "error",
     "traceback": [
      "\u001b[0;31m---------------------------------------------------------------------------\u001b[0m",
      "\u001b[0;31mValueError\u001b[0m                                Traceback (most recent call last)",
      "\u001b[0;32m<ipython-input-14-6d10fe8973eb>\u001b[0m in \u001b[0;36m<module>\u001b[0;34m\u001b[0m\n\u001b[0;32m----> 1\u001b[0;31m \u001b[0mmodel\u001b[0m\u001b[0;34m.\u001b[0m\u001b[0mfit\u001b[0m\u001b[0;34m(\u001b[0m\u001b[0mX\u001b[0m\u001b[0;34m,\u001b[0m \u001b[0my\u001b[0m\u001b[0;34m)\u001b[0m\u001b[0;34m\u001b[0m\u001b[0;34m\u001b[0m\u001b[0m\n\u001b[0m",
      "\u001b[0;32m~/.local/share/virtualenvs/handson-ml-TKaKBuls/lib/python3.8/site-packages/sklearn/linear_model/_base.py\u001b[0m in \u001b[0;36mfit\u001b[0;34m(self, X, y, sample_weight)\u001b[0m\n\u001b[1;32m    489\u001b[0m \u001b[0;34m\u001b[0m\u001b[0m\n\u001b[1;32m    490\u001b[0m         \u001b[0mn_jobs_\u001b[0m \u001b[0;34m=\u001b[0m \u001b[0mself\u001b[0m\u001b[0;34m.\u001b[0m\u001b[0mn_jobs\u001b[0m\u001b[0;34m\u001b[0m\u001b[0;34m\u001b[0m\u001b[0m\n\u001b[0;32m--> 491\u001b[0;31m         X, y = check_X_y(X, y, accept_sparse=['csr', 'csc', 'coo'],\n\u001b[0m\u001b[1;32m    492\u001b[0m                          y_numeric=True, multi_output=True)\n\u001b[1;32m    493\u001b[0m \u001b[0;34m\u001b[0m\u001b[0m\n",
      "\u001b[0;32m~/.local/share/virtualenvs/handson-ml-TKaKBuls/lib/python3.8/site-packages/sklearn/utils/validation.py\u001b[0m in \u001b[0;36mcheck_X_y\u001b[0;34m(X, y, accept_sparse, accept_large_sparse, dtype, order, copy, force_all_finite, ensure_2d, allow_nd, multi_output, ensure_min_samples, ensure_min_features, y_numeric, warn_on_dtype, estimator)\u001b[0m\n\u001b[1;32m    745\u001b[0m         \u001b[0;32mraise\u001b[0m \u001b[0mValueError\u001b[0m\u001b[0;34m(\u001b[0m\u001b[0;34m\"y cannot be None\"\u001b[0m\u001b[0;34m)\u001b[0m\u001b[0;34m\u001b[0m\u001b[0;34m\u001b[0m\u001b[0m\n\u001b[1;32m    746\u001b[0m \u001b[0;34m\u001b[0m\u001b[0m\n\u001b[0;32m--> 747\u001b[0;31m     X = check_array(X, accept_sparse=accept_sparse,\n\u001b[0m\u001b[1;32m    748\u001b[0m                     \u001b[0maccept_large_sparse\u001b[0m\u001b[0;34m=\u001b[0m\u001b[0maccept_large_sparse\u001b[0m\u001b[0;34m,\u001b[0m\u001b[0;34m\u001b[0m\u001b[0;34m\u001b[0m\u001b[0m\n\u001b[1;32m    749\u001b[0m                     \u001b[0mdtype\u001b[0m\u001b[0;34m=\u001b[0m\u001b[0mdtype\u001b[0m\u001b[0;34m,\u001b[0m \u001b[0morder\u001b[0m\u001b[0;34m=\u001b[0m\u001b[0morder\u001b[0m\u001b[0;34m,\u001b[0m \u001b[0mcopy\u001b[0m\u001b[0;34m=\u001b[0m\u001b[0mcopy\u001b[0m\u001b[0;34m,\u001b[0m\u001b[0;34m\u001b[0m\u001b[0;34m\u001b[0m\u001b[0m\n",
      "\u001b[0;32m~/.local/share/virtualenvs/handson-ml-TKaKBuls/lib/python3.8/site-packages/sklearn/utils/validation.py\u001b[0m in \u001b[0;36mcheck_array\u001b[0;34m(array, accept_sparse, accept_large_sparse, dtype, order, copy, force_all_finite, ensure_2d, allow_nd, ensure_min_samples, ensure_min_features, warn_on_dtype, estimator)\u001b[0m\n\u001b[1;32m    550\u001b[0m             \u001b[0;31m# If input is 1D raise error\u001b[0m\u001b[0;34m\u001b[0m\u001b[0;34m\u001b[0m\u001b[0;34m\u001b[0m\u001b[0m\n\u001b[1;32m    551\u001b[0m             \u001b[0;32mif\u001b[0m \u001b[0marray\u001b[0m\u001b[0;34m.\u001b[0m\u001b[0mndim\u001b[0m \u001b[0;34m==\u001b[0m \u001b[0;36m1\u001b[0m\u001b[0;34m:\u001b[0m\u001b[0;34m\u001b[0m\u001b[0;34m\u001b[0m\u001b[0m\n\u001b[0;32m--> 552\u001b[0;31m                 raise ValueError(\n\u001b[0m\u001b[1;32m    553\u001b[0m                     \u001b[0;34m\"Expected 2D array, got 1D array instead:\\narray={}.\\n\"\u001b[0m\u001b[0;34m\u001b[0m\u001b[0;34m\u001b[0m\u001b[0m\n\u001b[1;32m    554\u001b[0m                     \u001b[0;34m\"Reshape your data either using array.reshape(-1, 1) if \"\u001b[0m\u001b[0;34m\u001b[0m\u001b[0;34m\u001b[0m\u001b[0m\n",
      "\u001b[0;31mValueError\u001b[0m: Expected 2D array, got 1D array instead:\narray=[    0.            60.06006006   120.12012012   180.18018018\n   240.24024024   300.3003003    360.36036036   420.42042042\n   480.48048048   540.54054054   600.6006006    660.66066066\n   720.72072072   780.78078078   840.84084084   900.9009009\n   960.96096096  1021.02102102  1081.08108108  1141.14114114\n  1201.2012012   1261.26126126  1321.32132132  1381.38138138\n  1441.44144144  1501.5015015   1561.56156156  1621.62162162\n  1681.68168168  1741.74174174  1801.8018018   1861.86186186\n  1921.92192192  1981.98198198  2042.04204204  2102.1021021\n  2162.16216216  2222.22222222  2282.28228228  2342.34234234\n  2402.4024024   2462.46246246  2522.52252252  2582.58258258\n  2642.64264264  2702.7027027   2762.76276276  2822.82282282\n  2882.88288288  2942.94294294  3003.003003    3063.06306306\n  3123.12312312  3183.18318318  3243.24324324  3303.3033033\n  3363.36336336  3423.42342342  3483.48348348  3543.54354354\n  3603.6036036   3663.66366366  3723.72372372  3783.78378378\n  3843.84384384  3903.9039039   3963.96396396  4024.02402402\n  4084.08408408  4144.14414414  4204.2042042   4264.26426426\n  4324.32432432  4384.38438438  4444.44444444  4504.5045045\n  4564.56456456  4624.62462462  4684.68468468  4744.74474474\n  4804.8048048   4864.86486486  4924.92492492  4984.98498498\n  5045.04504505  5105.10510511  5165.16516517  5225.22522523\n  5285.28528529  5345.34534535  5405.40540541  5465.46546547\n  5525.52552553  5585.58558559  5645.64564565  5705.70570571\n  5765.76576577  5825.82582583  5885.88588589  5945.94594595\n  6006.00600601  6066.06606607  6126.12612613  6186.18618619\n  6246.24624625  6306.30630631  6366.36636637  6426.42642643\n  6486.48648649  6546.54654655  6606.60660661  6666.66666667\n  6726.72672673  6786.78678679  6846.84684685  6906.90690691\n  6966.96696697  7027.02702703  7087.08708709  7147.14714715\n  7207.20720721  7267.26726727  7327.32732733  7387.38738739\n  7447.44744745  7507.50750751  7567.56756757  7627.62762763\n  7687.68768769  7747.74774775  7807.80780781  7867.86786787\n  7927.92792793  7987.98798799  8048.04804805  8108.10810811\n  8168.16816817  8228.22822823  8288.28828829  8348.34834835\n  8408.40840841  8468.46846847  8528.52852853  8588.58858859\n  8648.64864865  8708.70870871  8768.76876877  8828.82882883\n  8888.88888889  8948.94894895  9009.00900901  9069.06906907\n  9129.12912913  9189.18918919  9249.24924925  9309.30930931\n  9369.36936937  9429.42942943  9489.48948949  9549.54954955\n  9609.60960961  9669.66966967  9729.72972973  9789.78978979\n  9849.84984985  9909.90990991  9969.96996997 10030.03003003\n 10090.09009009 10150.15015015 10210.21021021 10270.27027027\n 10330.33033033 10390.39039039 10450.45045045 10510.51051051\n 10570.57057057 10630.63063063 10690.69069069 10750.75075075\n 10810.81081081 10870.87087087 10930.93093093 10990.99099099\n 11051.05105105 11111.11111111 11171.17117117 11231.23123123\n 11291.29129129 11351.35135135 11411.41141141 11471.47147147\n 11531.53153153 11591.59159159 11651.65165165 11711.71171171\n 11771.77177177 11831.83183183 11891.89189189 11951.95195195\n 12012.01201201 12072.07207207 12132.13213213 12192.19219219\n 12252.25225225 12312.31231231 12372.37237237 12432.43243243\n 12492.49249249 12552.55255255 12612.61261261 12672.67267267\n 12732.73273273 12792.79279279 12852.85285285 12912.91291291\n 12972.97297297 13033.03303303 13093.09309309 13153.15315315\n 13213.21321321 13273.27327327 13333.33333333 13393.39339339\n 13453.45345345 13513.51351351 13573.57357357 13633.63363363\n 13693.69369369 13753.75375375 13813.81381381 13873.87387387\n 13933.93393393 13993.99399399 14054.05405405 14114.11411411\n 14174.17417417 14234.23423423 14294.29429429 14354.35435435\n 14414.41441441 14474.47447447 14534.53453453 14594.59459459\n 14654.65465465 14714.71471471 14774.77477477 14834.83483483\n 14894.89489489 14954.95495495 15015.01501502 15075.07507508\n 15135.13513514 15195.1951952  15255.25525526 15315.31531532\n 15375.37537538 15435.43543544 15495.4954955  15555.55555556\n 15615.61561562 15675.67567568 15735.73573574 15795.7957958\n 15855.85585586 15915.91591592 15975.97597598 16036.03603604\n 16096.0960961  16156.15615616 16216.21621622 16276.27627628\n 16336.33633634 16396.3963964  16456.45645646 16516.51651652\n 16576.57657658 16636.63663664 16696.6966967  16756.75675676\n 16816.81681682 16876.87687688 16936.93693694 16996.996997\n 17057.05705706 17117.11711712 17177.17717718 17237.23723724\n 17297.2972973  17357.35735736 17417.41741742 17477.47747748\n 17537.53753754 17597.5975976  17657.65765766 17717.71771772\n 17777.77777778 17837.83783784 17897.8978979  17957.95795796\n 18018.01801802 18078.07807808 18138.13813814 18198.1981982\n 18258.25825826 18318.31831832 18378.37837838 18438.43843844\n 18498.4984985  18558.55855856 18618.61861862 18678.67867868\n 18738.73873874 18798.7987988  18858.85885886 18918.91891892\n 18978.97897898 19039.03903904 19099.0990991  19159.15915916\n 19219.21921922 19279.27927928 19339.33933934 19399.3993994\n 19459.45945946 19519.51951952 19579.57957958 19639.63963964\n 19699.6996997  19759.75975976 19819.81981982 19879.87987988\n 19939.93993994 20000.         20060.06006006 20120.12012012\n 20180.18018018 20240.24024024 20300.3003003  20360.36036036\n 20420.42042042 20480.48048048 20540.54054054 20600.6006006\n 20660.66066066 20720.72072072 20780.78078078 20840.84084084\n 20900.9009009  20960.96096096 21021.02102102 21081.08108108\n 21141.14114114 21201.2012012  21261.26126126 21321.32132132\n 21381.38138138 21441.44144144 21501.5015015  21561.56156156\n 21621.62162162 21681.68168168 21741.74174174 21801.8018018\n 21861.86186186 21921.92192192 21981.98198198 22042.04204204\n 22102.1021021  22162.16216216 22222.22222222 22282.28228228\n 22342.34234234 22402.4024024  22462.46246246 22522.52252252\n 22582.58258258 22642.64264264 22702.7027027  22762.76276276\n 22822.82282282 22882.88288288 22942.94294294 23003.003003\n 23063.06306306 23123.12312312 23183.18318318 23243.24324324\n 23303.3033033  23363.36336336 23423.42342342 23483.48348348\n 23543.54354354 23603.6036036  23663.66366366 23723.72372372\n 23783.78378378 23843.84384384 23903.9039039  23963.96396396\n 24024.02402402 24084.08408408 24144.14414414 24204.2042042\n 24264.26426426 24324.32432432 24384.38438438 24444.44444444\n 24504.5045045  24564.56456456 24624.62462462 24684.68468468\n 24744.74474474 24804.8048048  24864.86486486 24924.92492492\n 24984.98498498 25045.04504505 25105.10510511 25165.16516517\n 25225.22522523 25285.28528529 25345.34534535 25405.40540541\n 25465.46546547 25525.52552553 25585.58558559 25645.64564565\n 25705.70570571 25765.76576577 25825.82582583 25885.88588589\n 25945.94594595 26006.00600601 26066.06606607 26126.12612613\n 26186.18618619 26246.24624625 26306.30630631 26366.36636637\n 26426.42642643 26486.48648649 26546.54654655 26606.60660661\n 26666.66666667 26726.72672673 26786.78678679 26846.84684685\n 26906.90690691 26966.96696697 27027.02702703 27087.08708709\n 27147.14714715 27207.20720721 27267.26726727 27327.32732733\n 27387.38738739 27447.44744745 27507.50750751 27567.56756757\n 27627.62762763 27687.68768769 27747.74774775 27807.80780781\n 27867.86786787 27927.92792793 27987.98798799 28048.04804805\n 28108.10810811 28168.16816817 28228.22822823 28288.28828829\n 28348.34834835 28408.40840841 28468.46846847 28528.52852853\n 28588.58858859 28648.64864865 28708.70870871 28768.76876877\n 28828.82882883 28888.88888889 28948.94894895 29009.00900901\n 29069.06906907 29129.12912913 29189.18918919 29249.24924925\n 29309.30930931 29369.36936937 29429.42942943 29489.48948949\n 29549.54954955 29609.60960961 29669.66966967 29729.72972973\n 29789.78978979 29849.84984985 29909.90990991 29969.96996997\n 30030.03003003 30090.09009009 30150.15015015 30210.21021021\n 30270.27027027 30330.33033033 30390.39039039 30450.45045045\n 30510.51051051 30570.57057057 30630.63063063 30690.69069069\n 30750.75075075 30810.81081081 30870.87087087 30930.93093093\n 30990.99099099 31051.05105105 31111.11111111 31171.17117117\n 31231.23123123 31291.29129129 31351.35135135 31411.41141141\n 31471.47147147 31531.53153153 31591.59159159 31651.65165165\n 31711.71171171 31771.77177177 31831.83183183 31891.89189189\n 31951.95195195 32012.01201201 32072.07207207 32132.13213213\n 32192.19219219 32252.25225225 32312.31231231 32372.37237237\n 32432.43243243 32492.49249249 32552.55255255 32612.61261261\n 32672.67267267 32732.73273273 32792.79279279 32852.85285285\n 32912.91291291 32972.97297297 33033.03303303 33093.09309309\n 33153.15315315 33213.21321321 33273.27327327 33333.33333333\n 33393.39339339 33453.45345345 33513.51351351 33573.57357357\n 33633.63363363 33693.69369369 33753.75375375 33813.81381381\n 33873.87387387 33933.93393393 33993.99399399 34054.05405405\n 34114.11411411 34174.17417417 34234.23423423 34294.29429429\n 34354.35435435 34414.41441441 34474.47447447 34534.53453453\n 34594.59459459 34654.65465465 34714.71471471 34774.77477477\n 34834.83483483 34894.89489489 34954.95495495 35015.01501502\n 35075.07507508 35135.13513514 35195.1951952  35255.25525526\n 35315.31531532 35375.37537538 35435.43543544 35495.4954955\n 35555.55555556 35615.61561562 35675.67567568 35735.73573574\n 35795.7957958  35855.85585586 35915.91591592 35975.97597598\n 36036.03603604 36096.0960961  36156.15615616 36216.21621622\n 36276.27627628 36336.33633634 36396.3963964  36456.45645646\n 36516.51651652 36576.57657658 36636.63663664 36696.6966967\n 36756.75675676 36816.81681682 36876.87687688 36936.93693694\n 36996.996997   37057.05705706 37117.11711712 37177.17717718\n 37237.23723724 37297.2972973  37357.35735736 37417.41741742\n 37477.47747748 37537.53753754 37597.5975976  37657.65765766\n 37717.71771772 37777.77777778 37837.83783784 37897.8978979\n 37957.95795796 38018.01801802 38078.07807808 38138.13813814\n 38198.1981982  38258.25825826 38318.31831832 38378.37837838\n 38438.43843844 38498.4984985  38558.55855856 38618.61861862\n 38678.67867868 38738.73873874 38798.7987988  38858.85885886\n 38918.91891892 38978.97897898 39039.03903904 39099.0990991\n 39159.15915916 39219.21921922 39279.27927928 39339.33933934\n 39399.3993994  39459.45945946 39519.51951952 39579.57957958\n 39639.63963964 39699.6996997  39759.75975976 39819.81981982\n 39879.87987988 39939.93993994 40000.         40060.06006006\n 40120.12012012 40180.18018018 40240.24024024 40300.3003003\n 40360.36036036 40420.42042042 40480.48048048 40540.54054054\n 40600.6006006  40660.66066066 40720.72072072 40780.78078078\n 40840.84084084 40900.9009009  40960.96096096 41021.02102102\n 41081.08108108 41141.14114114 41201.2012012  41261.26126126\n 41321.32132132 41381.38138138 41441.44144144 41501.5015015\n 41561.56156156 41621.62162162 41681.68168168 41741.74174174\n 41801.8018018  41861.86186186 41921.92192192 41981.98198198\n 42042.04204204 42102.1021021  42162.16216216 42222.22222222\n 42282.28228228 42342.34234234 42402.4024024  42462.46246246\n 42522.52252252 42582.58258258 42642.64264264 42702.7027027\n 42762.76276276 42822.82282282 42882.88288288 42942.94294294\n 43003.003003   43063.06306306 43123.12312312 43183.18318318\n 43243.24324324 43303.3033033  43363.36336336 43423.42342342\n 43483.48348348 43543.54354354 43603.6036036  43663.66366366\n 43723.72372372 43783.78378378 43843.84384384 43903.9039039\n 43963.96396396 44024.02402402 44084.08408408 44144.14414414\n 44204.2042042  44264.26426426 44324.32432432 44384.38438438\n 44444.44444444 44504.5045045  44564.56456456 44624.62462462\n 44684.68468468 44744.74474474 44804.8048048  44864.86486486\n 44924.92492492 44984.98498498 45045.04504505 45105.10510511\n 45165.16516517 45225.22522523 45285.28528529 45345.34534535\n 45405.40540541 45465.46546547 45525.52552553 45585.58558559\n 45645.64564565 45705.70570571 45765.76576577 45825.82582583\n 45885.88588589 45945.94594595 46006.00600601 46066.06606607\n 46126.12612613 46186.18618619 46246.24624625 46306.30630631\n 46366.36636637 46426.42642643 46486.48648649 46546.54654655\n 46606.60660661 46666.66666667 46726.72672673 46786.78678679\n 46846.84684685 46906.90690691 46966.96696697 47027.02702703\n 47087.08708709 47147.14714715 47207.20720721 47267.26726727\n 47327.32732733 47387.38738739 47447.44744745 47507.50750751\n 47567.56756757 47627.62762763 47687.68768769 47747.74774775\n 47807.80780781 47867.86786787 47927.92792793 47987.98798799\n 48048.04804805 48108.10810811 48168.16816817 48228.22822823\n 48288.28828829 48348.34834835 48408.40840841 48468.46846847\n 48528.52852853 48588.58858859 48648.64864865 48708.70870871\n 48768.76876877 48828.82882883 48888.88888889 48948.94894895\n 49009.00900901 49069.06906907 49129.12912913 49189.18918919\n 49249.24924925 49309.30930931 49369.36936937 49429.42942943\n 49489.48948949 49549.54954955 49609.60960961 49669.66966967\n 49729.72972973 49789.78978979 49849.84984985 49909.90990991\n 49969.96996997 50030.03003003 50090.09009009 50150.15015015\n 50210.21021021 50270.27027027 50330.33033033 50390.39039039\n 50450.45045045 50510.51051051 50570.57057057 50630.63063063\n 50690.69069069 50750.75075075 50810.81081081 50870.87087087\n 50930.93093093 50990.99099099 51051.05105105 51111.11111111\n 51171.17117117 51231.23123123 51291.29129129 51351.35135135\n 51411.41141141 51471.47147147 51531.53153153 51591.59159159\n 51651.65165165 51711.71171171 51771.77177177 51831.83183183\n 51891.89189189 51951.95195195 52012.01201201 52072.07207207\n 52132.13213213 52192.19219219 52252.25225225 52312.31231231\n 52372.37237237 52432.43243243 52492.49249249 52552.55255255\n 52612.61261261 52672.67267267 52732.73273273 52792.79279279\n 52852.85285285 52912.91291291 52972.97297297 53033.03303303\n 53093.09309309 53153.15315315 53213.21321321 53273.27327327\n 53333.33333333 53393.39339339 53453.45345345 53513.51351351\n 53573.57357357 53633.63363363 53693.69369369 53753.75375375\n 53813.81381381 53873.87387387 53933.93393393 53993.99399399\n 54054.05405405 54114.11411411 54174.17417417 54234.23423423\n 54294.29429429 54354.35435435 54414.41441441 54474.47447447\n 54534.53453453 54594.59459459 54654.65465465 54714.71471471\n 54774.77477477 54834.83483483 54894.89489489 54954.95495495\n 55015.01501502 55075.07507508 55135.13513514 55195.1951952\n 55255.25525526 55315.31531532 55375.37537538 55435.43543544\n 55495.4954955  55555.55555556 55615.61561562 55675.67567568\n 55735.73573574 55795.7957958  55855.85585586 55915.91591592\n 55975.97597598 56036.03603604 56096.0960961  56156.15615616\n 56216.21621622 56276.27627628 56336.33633634 56396.3963964\n 56456.45645646 56516.51651652 56576.57657658 56636.63663664\n 56696.6966967  56756.75675676 56816.81681682 56876.87687688\n 56936.93693694 56996.996997   57057.05705706 57117.11711712\n 57177.17717718 57237.23723724 57297.2972973  57357.35735736\n 57417.41741742 57477.47747748 57537.53753754 57597.5975976\n 57657.65765766 57717.71771772 57777.77777778 57837.83783784\n 57897.8978979  57957.95795796 58018.01801802 58078.07807808\n 58138.13813814 58198.1981982  58258.25825826 58318.31831832\n 58378.37837838 58438.43843844 58498.4984985  58558.55855856\n 58618.61861862 58678.67867868 58738.73873874 58798.7987988\n 58858.85885886 58918.91891892 58978.97897898 59039.03903904\n 59099.0990991  59159.15915916 59219.21921922 59279.27927928\n 59339.33933934 59399.3993994  59459.45945946 59519.51951952\n 59579.57957958 59639.63963964 59699.6996997  59759.75975976\n 59819.81981982 59879.87987988 59939.93993994 60000.        ].\nReshape your data either using array.reshape(-1, 1) if your data has a single feature or array.reshape(1, -1) if it contains a single sample."
     ]
    }
   ],
   "source": [
    "model.fit(X, y)"
   ]
  },
  {
   "cell_type": "markdown",
   "metadata": {},
   "source": [
    "# Make a prediction for Cyprus"
   ]
  },
  {
   "cell_type": "code",
   "execution_count": 14,
   "metadata": {},
   "outputs": [
    {
     "name": "stdout",
     "output_type": "stream",
     "text": [
      "[[5.96242338]]\n"
     ]
    }
   ],
   "source": [
    "X_new = [[22587]] # Cyprus' GDP per capita\n",
    "print(model.predict(X_new))"
   ]
  },
  {
   "cell_type": "markdown",
   "metadata": {},
   "source": [
    "# Try instance-based model and predict"
   ]
  },
  {
   "cell_type": "code",
   "execution_count": 15,
   "metadata": {},
   "outputs": [
    {
     "name": "stdout",
     "output_type": "stream",
     "text": [
      "[[5.76666667]]\n"
     ]
    }
   ],
   "source": [
    "instance_based_model = sklearn.neighbors.KNeighborsRegressor(n_neighbors=3)\n",
    "instance_based_model.fit(X, y)\n",
    "print(instance_based_model.predict(X_new))"
   ]
  },
  {
   "cell_type": "markdown",
   "metadata": {},
   "source": [
    "# Plot the models"
   ]
  },
  {
   "cell_type": "markdown",
   "metadata": {},
   "source": [
    "## Plotting the model-based model (linear regression)"
   ]
  },
  {
   "cell_type": "code",
   "execution_count": 16,
   "metadata": {},
   "outputs": [
    {
     "data": {
      "text/plain": [
       "(4.853052800266436, 4.911544589158484e-05)"
      ]
     },
     "execution_count": 16,
     "metadata": {},
     "output_type": "execute_result"
    }
   ],
   "source": [
    "t0, t1 = model.intercept_[0], model.coef_[0][0]\n",
    "t0, t1"
   ]
  },
  {
   "cell_type": "code",
   "execution_count": 17,
   "metadata": {},
   "outputs": [
    {
     "data": {
      "image/png": "[encoded data removed]",
      "text/plain": [
       "<Figure size 432x288 with 1 Axes>"
      ]
     },
     "metadata": {
      "needs_background": "light"
     },
     "output_type": "display_data"
    }
   ],
   "source": [
    "country_stats.plot(kind='scatter', x=\"GDP per capita\", y='Life satisfaction')\n",
    "plt.axis([0, 60000, 0, 10])\n",
    "X=np.linspace(0, 60000, 1000)\n",
    "plt.plot(X, t0 + t1*X, \"b\")\n",
    "plt.text(5000, 3.1, r\"$\\theta_0 = 4.85$\", fontsize=14, color=\"b\")\n",
    "plt.text(5000, 2.2, r\"$\\theta_1 = 4.91 \\times 10^{-5}$\", fontsize=14, color=\"b\")\n",
    "plt.show()"
   ]
  },
  {
   "cell_type": "markdown",
   "metadata": {},
   "source": [
    "## Plotting the instance-based model"
   ]
  },
  {
   "cell_type": "code",
   "execution_count": null,
   "metadata": {},
   "outputs": [],
   "source": [
    "# How do we do this?"
   ]
  },
  {
   "cell_type": "markdown",
   "metadata": {},
   "source": [
    "# Evaluate the models"
   ]
  },
  {
   "cell_type": "code",
   "execution_count": 25,
   "metadata": {},
   "outputs": [
    {
     "data": {
      "text/plain": [
       "0.8525732853499179"
      ]
     },
     "execution_count": 25,
     "metadata": {},
     "output_type": "execute_result"
    }
   ],
   "source": [
    "instance_based_model.score(X, y)"
   ]
  },
  {
   "cell_type": "code",
   "execution_count": 26,
   "metadata": {},
   "outputs": [
    {
     "data": {
      "text/plain": [
       "0.734441435543703"
      ]
     },
     "execution_count": 26,
     "metadata": {},
     "output_type": "execute_result"
    }
   ],
   "source": [
    "model.score(X, y)"
   ]
  },
  {
   "cell_type": "code",
   "execution_count": null,
   "metadata": {},
   "outputs": [],
   "source": []
  }
 ],
 "metadata": {
  "kernelspec": {
   "display_name": "Python 3",
   "language": "python",
   "name": "python3"
  },
  "language_info": {
   "codemirror_mode": {
    "name": "ipython",
    "version": 3
   },
   "file_extension": ".py",
   "mimetype": "text/x-python",
   "name": "python",
   "nbconvert_exporter": "python",
   "pygments_lexer": "ipython3",
   "version": "3.8.1"
  },
  "toc": {
   "base_numbering": 1,
   "nav_menu": {},
   "number_sections": true,
   "sideBar": true,
   "skip_h1_title": false,
   "title_cell": "Table of Contents",
   "title_sidebar": "Contents",
   "toc_cell": false,
   "toc_position": {},
   "toc_section_display": true,
   "toc_window_display": false
  }
 },
 "nbformat": 4,
 "nbformat_minor": 4
}
